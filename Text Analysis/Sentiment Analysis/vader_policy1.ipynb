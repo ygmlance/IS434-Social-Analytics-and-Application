{
 "cells": [
  {
   "cell_type": "code",
   "execution_count": 14,
   "metadata": {},
   "outputs": [],
   "source": [
    "import nltk\n",
    "import csv\n",
    "import json\n",
    "from vaderSentiment.vaderSentiment import SentimentIntensityAnalyzer"
   ]
  },
  {
   "cell_type": "code",
   "execution_count": 15,
   "metadata": {},
   "outputs": [],
   "source": [
    "# Use SentimentIntensity Analyzer from vaderSentiment\n",
    "sid_obj = SentimentIntensityAnalyzer()\n",
    "\n",
    "def get_sentiment(sentence):\n",
    "    sentiment_dict = sid_obj.polarity_scores(sentence)\n",
    "    return sentiment_dict"
   ]
  },
  {
   "cell_type": "code",
   "execution_count": 16,
   "metadata": {},
   "outputs": [],
   "source": [
    "# For Reddit Comments\n",
    "with open('reddit_policy1.txt') as r_file:\n",
    "    data = json.loads(r_file.read())\n",
    "    \n",
    "    if __name__ == \"__main__\":\n",
    "    \n",
    "        with open('overall_policy1_sentiment_vader.csv', 'w', newline='') as w_file:\n",
    "            fieldnames = ['post_id', 'comment_author', 'pos_score', 'neu_score', 'neg_score', 'compound_score', 'sentiment']\n",
    "            writer = csv.DictWriter(w_file, fieldnames = fieldnames)\n",
    "\n",
    "            writer.writeheader()\n",
    "\n",
    "            for post_id, post_details in data.items():\n",
    "                comments = post_details['comments']\n",
    "                \n",
    "                for comment_author, comment_content in comments.items():\n",
    "                    sent_dict = get_sentiment(comment_content)\n",
    "                    # Determine if sentiment is pos, neu or neg:\n",
    "                    if sent_dict['compound'] >= 0.05 : \n",
    "                        sentiment = 'pos'\n",
    "\n",
    "                    elif sent_dict['compound'] <= - 0.05 : \n",
    "                        sentiment = 'neg'\n",
    "\n",
    "                    else : \n",
    "                        sentiment = 'neu'\n",
    "                        \n",
    "                    writer.writerow({'post_id': post_id, 'comment_author': comment_author, 'pos_score': sent_dict['pos'],\n",
    "                                    'neu_score': sent_dict['neu'], 'neg_score': sent_dict['neg'], \n",
    "                                     'compound_score': sent_dict['compound'], 'sentiment': sentiment})"
   ]
  },
  {
   "cell_type": "code",
   "execution_count": 17,
   "metadata": {},
   "outputs": [],
   "source": [
    "# For Instagram Comments\n",
    "with open('ig_policy1_compulsory_comments.csv') as r_file:\n",
    "    r_file.readline()\n",
    "    reader = csv.reader(r_file)\n",
    "    \n",
    "    if __name__ == \"__main__\":\n",
    "    \n",
    "        with open('overall_policy1_sentiment_vader.csv', 'a') as w_file:\n",
    "            fieldnames = ['post_id', 'comment_author', 'pos_score', 'neu_score', 'neg_score', 'compound_score', 'sentiment']\n",
    "            writer = csv.DictWriter(w_file, fieldnames = fieldnames)\n",
    "\n",
    "            for row in reader:\n",
    "                sent_dict = get_sentiment(row[5])\n",
    "                # Determine if sentiment is pos, neu or neg:\n",
    "                if sent_dict['compound'] >= 0.05 : \n",
    "                    sentiment = 'pos'\n",
    "\n",
    "                elif sent_dict['compound'] <= - 0.05 : \n",
    "                    sentiment = 'neg'\n",
    "\n",
    "                else : \n",
    "                    sentiment = 'neu'\n",
    "                writer.writerow({'post_id': row[1], 'comment_author': row[4], 'pos_score': sent_dict['pos'],\n",
    "                                    'neu_score': sent_dict['neu'], 'neg_score': sent_dict['neg'], \n",
    "                                     'compound_score': sent_dict['compound'], 'sentiment': sentiment})"
   ]
  },
  {
   "cell_type": "code",
   "execution_count": null,
   "metadata": {},
   "outputs": [],
   "source": []
  }
 ],
 "metadata": {
  "kernelspec": {
   "display_name": "Python 3",
   "language": "python",
   "name": "python3"
  },
  "language_info": {
   "codemirror_mode": {
    "name": "ipython",
    "version": 3
   },
   "file_extension": ".py",
   "mimetype": "text/x-python",
   "name": "python",
   "nbconvert_exporter": "python",
   "pygments_lexer": "ipython3",
   "version": "3.7.6"
  }
 },
 "nbformat": 4,
 "nbformat_minor": 4
}
