{
 "cells": [
  {
   "cell_type": "code",
   "execution_count": 1,
   "metadata": {},
   "outputs": [],
   "source": [
    "import nltk\n",
    "import re\n",
    "import numpy as np\n",
    "import pandas as pd\n",
    "from pprint import pprint\n",
    "import gensim\n",
    "import gensim.corpora as corpora\n",
    "from gensim.utils import simple_preprocess\n",
    "from gensim.models import CoherenceModel\n",
    "import spacy\n",
    "import pyLDAvis\n",
    "import pyLDAvis.gensim  # don't skip this\n",
    "import matplotlib.pyplot as plt\n",
    "%matplotlib inline"
   ]
  },
  {
   "cell_type": "code",
   "execution_count": 2,
   "metadata": {},
   "outputs": [],
   "source": [
    "# NLTK Stop words\n",
    "from nltk.corpus import stopwords\n",
    "stop_words = stopwords.words('english')\n",
    "stop_words.extend(['http','https'])"
   ]
  },
  {
   "cell_type": "code",
   "execution_count": 3,
   "metadata": {},
   "outputs": [
    {
     "data": {
      "text/html": [
       "<div>\n",
       "<style scoped>\n",
       "    .dataframe tbody tr th:only-of-type {\n",
       "        vertical-align: middle;\n",
       "    }\n",
       "\n",
       "    .dataframe tbody tr th {\n",
       "        vertical-align: top;\n",
       "    }\n",
       "\n",
       "    .dataframe thead th {\n",
       "        text-align: right;\n",
       "    }\n",
       "</style>\n",
       "<table border=\"1\" class=\"dataframe\">\n",
       "  <thead>\n",
       "    <tr style=\"text-align: right;\">\n",
       "      <th></th>\n",
       "      <th>platform</th>\n",
       "      <th>post_id</th>\n",
       "      <th>username</th>\n",
       "      <th>text</th>\n",
       "    </tr>\n",
       "  </thead>\n",
       "  <tbody>\n",
       "    <tr>\n",
       "      <th>0</th>\n",
       "      <td>instagram</td>\n",
       "      <td>B--cvRQHJRp</td>\n",
       "      <td>photographyholic</td>\n",
       "      <td>singapore now it is mandatory with immediate e...</td>\n",
       "    </tr>\n",
       "    <tr>\n",
       "      <th>1</th>\n",
       "      <td>instagram</td>\n",
       "      <td>B-9dOShHqC-</td>\n",
       "      <td>mothershipsg</td>\n",
       "      <td>just in first time offenders will face a s 300...</td>\n",
       "    </tr>\n",
       "    <tr>\n",
       "      <th>2</th>\n",
       "      <td>instagram</td>\n",
       "      <td>B_Aeqc0nnVm</td>\n",
       "      <td>mothershipsg</td>\n",
       "      <td>first time offenders will face a fine of below...</td>\n",
       "    </tr>\n",
       "    <tr>\n",
       "      <th>3</th>\n",
       "      <td>instagram</td>\n",
       "      <td>B-_uYTVAjLI</td>\n",
       "      <td>sgagsg</td>\n",
       "      <td>hello police please fine this sound by @mingwe...</td>\n",
       "    </tr>\n",
       "    <tr>\n",
       "      <th>4</th>\n",
       "      <td>instagram</td>\n",
       "      <td>B_HnKCNHUxp</td>\n",
       "      <td>sgmemetextbook</td>\n",
       "      <td>the 600 the government gave out on 14 4 2x 300...</td>\n",
       "    </tr>\n",
       "  </tbody>\n",
       "</table>\n",
       "</div>"
      ],
      "text/plain": [
       "    platform      post_id          username  \\\n",
       "0  instagram  B--cvRQHJRp  photographyholic   \n",
       "1  instagram  B-9dOShHqC-      mothershipsg   \n",
       "2  instagram  B_Aeqc0nnVm      mothershipsg   \n",
       "3  instagram  B-_uYTVAjLI            sgagsg   \n",
       "4  instagram  B_HnKCNHUxp    sgmemetextbook   \n",
       "\n",
       "                                                text  \n",
       "0  singapore now it is mandatory with immediate e...  \n",
       "1  just in first time offenders will face a s 300...  \n",
       "2  first time offenders will face a fine of below...  \n",
       "3  hello police please fine this sound by @mingwe...  \n",
       "4  the 600 the government gave out on 14 4 2x 300...  "
      ]
     },
     "execution_count": 3,
     "metadata": {},
     "output_type": "execute_result"
    }
   ],
   "source": [
    "# Import Dataset\n",
    "df = pd.read_csv('master_policy1.csv')\n",
    "df.head()"
   ]
  },
  {
   "cell_type": "code",
   "execution_count": 4,
   "metadata": {},
   "outputs": [],
   "source": [
    "# Convert to list\n",
    "data = df.text.values.tolist()\n",
    "\n",
    "# Remove URL\n",
    "data = [ re.sub(r\"(?i)\\b((?:[a-z][\\w-]+:(?:/{1,3}|[a-z0-9%])|www\\d{0,3}[.]|[a-z0-9.\\-]+[.][a-z]{2,4}/)(?:[^\\s()<>]+|\\(([^\\s()<>]+|(\\([^\\s()<>]+\\)))*\\))+(?:\\(([^\\s()<>]+|(\\([^\\s()<>]+\\)))*\\)|[^\\s`!()\\[\\]{};:'\\.,<>?«»“”‘’]))\", '', s, flags=re.M) for s in data ]\n",
    "\n",
    "# Remove new line characters\n",
    "data = [re.sub(r'\\s+', ' ', s) for s in data]"
   ]
  },
  {
   "cell_type": "code",
   "execution_count": 5,
   "metadata": {},
   "outputs": [],
   "source": [
    "def sent_to_words(sentences):\n",
    "    for sentence in sentences:\n",
    "        yield(gensim.utils.simple_preprocess(str(sentence), deacc=True))  # deacc=True removes punctuations\n",
    "\n",
    "data_words = list(sent_to_words(data))"
   ]
  },
  {
   "cell_type": "code",
   "execution_count": 6,
   "metadata": {},
   "outputs": [
    {
     "name": "stdout",
     "output_type": "stream",
     "text": [
      "['singapore', 'now', 'it', 'is', 'mandatory', 'with', 'immediate', 'effect', 'for', 'everyone', 'to', 'wear_mask', 'when', 'they', 'step', 'out', 'of', 'your', 'house', 'as', 'part', 'of', 'stricter', 'measures', 'to', 'curb', 'the', 'further', 'spread', 'of', 'the', 'coronavirus', 'those', 'who', 'do', 'not', 'risk', 'fine', 'for', 'first', 'time', 'offenders', 'there', 'are', 'exemptions', 'for', 'those', 'engaging', 'in', 'strenuous', 'exercise', 'and', 'children', 'below', 'the', 'age', 'of', 'two', 'as', 'medical', 'experts', 'recommend', 'against', 'them', 'wearing', 'masks', 'national', 'development', 'minister', 'lawrence', 'wong', 'said', 'at', 'media', 'conference', 'on', 'tuesday', 'april', 'please', 'stay_home', 'sgunited', 'covi', 'sgunited', 'singapore', 'singapore', 'streetshared', 'instagram', 'artofvisuals', 'exploresg', 'instasg', 'whatissingapore', 'iluvsg', 'citygrammers', 'kilogrammerz', 'streetshated', 'thankyou', 'singapore', 'singapore']\n"
     ]
    }
   ],
   "source": [
    "# Build the bigram and trigram models\n",
    "bigram = gensim.models.Phrases(data_words, min_count=5, threshold=100) # higher threshold fewer phrases.\n",
    "trigram = gensim.models.Phrases(bigram[data_words], threshold=100)  \n",
    "\n",
    "# Faster way to get a sentence clubbed as a trigram/bigram\n",
    "bigram_mod = gensim.models.phrases.Phraser(bigram)\n",
    "trigram_mod = gensim.models.phrases.Phraser(trigram)\n",
    "\n",
    "# See trigram example\n",
    "print(trigram_mod[bigram_mod[data_words[0]]])"
   ]
  },
  {
   "cell_type": "code",
   "execution_count": 7,
   "metadata": {},
   "outputs": [],
   "source": [
    "# Define functions for stopwords, bigrams, trigrams and lemmatization\n",
    "def remove_stopwords(texts):\n",
    "    return [[word for word in simple_preprocess(str(doc)) if word not in stop_words] for doc in texts]\n",
    "\n",
    "def make_bigrams(texts):\n",
    "    return [bigram_mod[doc] for doc in texts]\n",
    "\n",
    "def make_trigrams(texts):\n",
    "    return [trigram_mod[bigram_mod[doc]] for doc in texts]\n",
    "\n",
    "def lemmatization(texts, allowed_postags=['NOUN', 'ADJ', 'VERB', 'ADV']):\n",
    "    \"\"\"https://spacy.io/api/annotation\"\"\"\n",
    "    texts_out = []\n",
    "    for sent in texts:\n",
    "        doc = nlp(\" \".join(sent)) \n",
    "        texts_out.append([token.lemma_ for token in doc if token.pos_ in allowed_postags])\n",
    "    return texts_out"
   ]
  },
  {
   "cell_type": "code",
   "execution_count": 8,
   "metadata": {},
   "outputs": [
    {
     "name": "stdout",
     "output_type": "stream",
     "text": [
      "[['mandatory', 'immediate', 'effect', 'step', 'house', 'part', 'strict', 'measure', 'curb', 'spread', 'risk', 'fine', 'first', 'time', 'offender', 'exemption', 'engage', 'strenuous', 'exercise', 'child', 'age', 'medical', 'expert', 'recommend', 'wear', 'mask', 'say', 'please', 'stay_home', 'sgunited', 'covi', 'sgunite', 'streetshare', 'artofvisual', 'whatissingapore', 'citygrammer', 'streetshate']]\n"
     ]
    }
   ],
   "source": [
    "# Remove Stop Words\n",
    "data_words_nostops = remove_stopwords(data_words)\n",
    "\n",
    "# Form Bigrams\n",
    "data_words_bigrams = make_bigrams(data_words_nostops)\n",
    "\n",
    "# Initialize spacy 'en' model, keeping only tagger component (for efficiency)\n",
    "# python3 -m spacy download en\n",
    "nlp = spacy.load('en', disable=['parser', 'ner'])\n",
    "\n",
    "# Do lemmatization keeping only noun, adj, vb, adv\n",
    "data_lemmatized = lemmatization(data_words_bigrams, allowed_postags=['NOUN', 'ADJ', 'VERB', 'ADV'])\n",
    "\n",
    "print(data_lemmatized[:1])"
   ]
  },
  {
   "cell_type": "code",
   "execution_count": 9,
   "metadata": {},
   "outputs": [
    {
     "name": "stdout",
     "output_type": "stream",
     "text": [
      "[[(0, 1), (1, 1), (2, 1), (3, 1), (4, 1), (5, 1), (6, 1), (7, 1), (8, 1), (9, 1), (10, 1), (11, 1), (12, 1), (13, 1), (14, 1), (15, 1), (16, 1), (17, 1), (18, 1), (19, 1), (20, 1), (21, 1), (22, 1), (23, 1), (24, 1), (25, 1), (26, 1), (27, 1), (28, 1), (29, 1), (30, 1), (31, 1), (32, 1), (33, 1), (34, 1), (35, 1), (36, 1)]]\n"
     ]
    }
   ],
   "source": [
    "# Create Dictionary\n",
    "id2word = corpora.Dictionary(data_lemmatized)\n",
    "\n",
    "# Create Corpus\n",
    "texts = data_lemmatized\n",
    "\n",
    "# Term Document Frequency\n",
    "corpus = [id2word.doc2bow(text) for text in texts]\n",
    "\n",
    "# View\n",
    "print(corpus[:1])"
   ]
  },
  {
   "cell_type": "code",
   "execution_count": 10,
   "metadata": {
    "scrolled": true
   },
   "outputs": [
    {
     "data": {
      "image/png": "[encoded data removed]",
      "text/plain": [
       "<Figure size 432x288 with 2 Axes>"
      ]
     },
     "metadata": {
      "needs_background": "light"
     },
     "output_type": "display_data"
    }
   ],
   "source": [
    "perplexity_list = []\n",
    "coherence_list = []\n",
    "num_topics = range(1,11)\n",
    "\n",
    "for i in num_topics:\n",
    "    # Build LDA model\n",
    "    lda_model = gensim.models.ldamodel.LdaModel(corpus=corpus,\n",
    "                                           id2word=id2word,\n",
    "                                           num_topics=i, \n",
    "                                           random_state=100,\n",
    "                                           update_every=1,\n",
    "                                           chunksize=100,\n",
    "                                           passes=10,\n",
    "                                           alpha='auto',\n",
    "                                           per_word_topics=True)\n",
    "    \n",
    "    log_perplexity = lda_model.log_perplexity(corpus)\n",
    "    perplexity = 2**(-log_perplexity)\n",
    "    perplexity_list.append(perplexity)\n",
    "    \n",
    "    coherence_model_lda = CoherenceModel(model=lda_model, texts=data_lemmatized, dictionary=id2word, coherence='c_v')\n",
    "    coherence_lda = coherence_model_lda.get_coherence()\n",
    "    coherence_list.append(coherence_lda)\n",
    "    \n",
    "fig, ax1 = plt.subplots()\n",
    "\n",
    "ax2 = ax1.twinx()\n",
    "ax1.plot(num_topics,perplexity_list, marker='o', color =  'r')\n",
    "ax2.plot(num_topics, coherence_list, marker = 'o', color = 'b')\n",
    "\n",
    "ax1.set_xlabel('Number of topics')\n",
    "ax1.set_ylabel('Perplexity', color = 'r')\n",
    "ax2.set_ylabel('Coherence', color = 'b')\n",
    "\n",
    "plt.show()"
   ]
  },
  {
   "cell_type": "code",
   "execution_count": 11,
   "metadata": {},
   "outputs": [],
   "source": [
    "final_num_topic = 2\n",
    "\n",
    "# Build LDA model\n",
    "lda_model = gensim.models.ldamodel.LdaModel(corpus=corpus,\n",
    "                                           id2word=id2word,\n",
    "                                           num_topics=final_num_topic, \n",
    "                                           random_state=100,\n",
    "                                           update_every=1,\n",
    "                                           chunksize=100,\n",
    "                                           passes=10,\n",
    "                                           alpha='auto',\n",
    "                                           per_word_topics=True)"
   ]
  },
  {
   "cell_type": "code",
   "execution_count": 12,
   "metadata": {},
   "outputs": [
    {
     "name": "stdout",
     "output_type": "stream",
     "text": [
      "Topic 0: \n",
      "0.010*\"park\" \n",
      "0.010*\"close\" \n",
      "0.009*\"closure\" \n",
      "0.007*\"drink\" \n",
      "0.007*\"bubble_tea\" \n",
      "0.006*\"food\" \n",
      "0.006*\"sugar\" \n",
      "0.006*\"outlet\" \n",
      "0.006*\"queue\" \n",
      "0.005*\"staff\"\n",
      "--------------------\n",
      "Topic 1: \n",
      "0.010*\"chinese\" \n",
      "0.009*\"people\" \n",
      "0.009*\"go\" \n",
      "0.008*\"think\" \n",
      "0.007*\"would\" \n",
      "0.007*\"say\" \n",
      "0.007*\"time\" \n",
      "0.006*\"even\" \n",
      "0.006*\"good\" \n",
      "0.006*\"make\"\n",
      "--------------------\n",
      "\n",
      "Perplexity:  -7.761870729352744\n",
      "\n",
      "Coherence Score:  0.4477248711538904\n"
     ]
    }
   ],
   "source": [
    "# Print topic list\n",
    "\n",
    "for num, topic in lda_model.show_topics(formatted=True, num_topics=final_num_topic, num_words=10):\n",
    "    print (\"Topic {}: \".format(num))\n",
    "    for t in topic.split('+ '):\n",
    "        print (t)\n",
    "    print ('-' * 20)\n",
    "\n",
    "\n",
    "# Compute Perplexity\n",
    "print('\\nPerplexity: ', lda_model.log_perplexity(corpus))  # a measure of how good the model is. lower the better.\n",
    "\n",
    "# Compute Coherence Score\n",
    "coherence_model_lda = CoherenceModel(model=lda_model, texts=data_lemmatized, dictionary=id2word, coherence='c_v')\n",
    "coherence_lda = coherence_model_lda.get_coherence()\n",
    "print('\\nCoherence Score: ', coherence_lda)"
   ]
  },
  {
   "cell_type": "code",
   "execution_count": 13,
   "metadata": {},
   "outputs": [
    {
     "data": {
      "text/html": [
       "\n",
       "<link rel=\"stylesheet\" type=\"text/css\" href=\"https://cdn.rawgit.com/bmabey/pyLDAvis/files/ldavis.v1.0.0.css\">\n",
       "\n",
       "\n",
       "<div id=\"ldavis_el9192417458287446483634396664\"></div>\n",
       "<script type=\"text/javascript\">\n",
       "\n",
       "var ldavis_el9192417458287446483634396664_data = {\"mdsDat\": {\"x\": [0.1484726071357727, -0.1484726071357727], \"y\": [0.0, 0.0], \"topics\": [1, 2], \"cluster\": [1, 1], \"Freq\": [82.56448364257812, 17.43551254272461]}, \"tinfo\": {\"Term\": [\"park\", \"close\", \"closure\", \"food\", \"drink\", \"bubble_tea\", \"queue\", \"sugar\", \"outlet\", \"staff\", \"shop\", \"store\", \"period\", \"week\", \"delivery\", \"nature\", \"last\", \"allow\", \"chinese\", \"measure\", \"item\", \"people\", \"covid\", \"garden\", \"walk\", \"essential\", \"facility\", \"pause\", \"go\", \"late\", \"chinese\", \"people\", \"think\", \"even\", \"good\", \"make\", \"go\", \"thing\", \"know\", \"want\", \"get\", \"really\", \"much\", \"country\", \"say\", \"come\", \"singaporean\", \"may\", \"use\", \"state\", \"need\", \"work\", \"would\", \"many\", \"interest\", \"different\", \"see\", \"influence\", \"issue\", \"look\", \"time\", \"try\", \"also\", \"well\", \"long\", \"still\", \"order\", \"closure\", \"park\", \"outlet\", \"garden\", \"reserve\", \"sell\", \"water\", \"period\", \"field\", \"chain\", \"pause\", \"hair\", \"car\", \"check\", \"essential\", \"cocaine\", \"item\", \"announce\", \"list\", \"addictive\", \"recreational\", \"football\", \"advisory\", \"announcement\", \"nuclear\", \"retail\", \"walk\", \"facility\", \"sugar\", \"miss\", \"ensure\", \"drink\", \"nature\", \"close\", \"store\", \"submarine\", \"prevent\", \"bubble_tea\", \"staff\", \"late\", \"allow\", \"week\", \"pm\", \"shop\", \"measure\", \"food\", \"queue\", \"open\", \"delivery\", \"last\", \"covid\"], \"Freq\": [42.0, 46.0, 35.0, 56.0, 32.0, 35.0, 46.0, 25.0, 24.0, 28.0, 29.0, 25.0, 22.0, 25.0, 32.0, 21.0, 41.0, 23.0, 204.0, 23.0, 18.0, 184.0, 35.0, 15.0, 15.0, 15.0, 15.0, 14.0, 182.0, 15.0, 204.0492401123047, 183.9914093017578, 156.4295654296875, 117.39907836914062, 114.7484130859375, 112.27986145019531, 181.6129150390625, 83.79513549804688, 91.25230407714844, 89.92108154296875, 97.63629913330078, 89.5275650024414, 86.71214294433594, 87.58417510986328, 145.54693603515625, 87.89302825927734, 67.62937927246094, 72.89299011230469, 77.33218383789062, 63.75611877441406, 102.21221923828125, 65.57341003417969, 145.5681610107422, 55.82051086425781, 57.81812286376953, 56.40974044799805, 98.0678939819336, 52.49011993408203, 64.00956726074219, 55.10810089111328, 132.1122283935547, 67.800048828125, 111.89302062988281, 78.45684814453125, 94.23130798339844, 100.35137176513672, 97.65596008300781, 35.38789367675781, 41.760353088378906, 24.092649459838867, 15.179954528808594, 12.579612731933594, 8.579824447631836, 11.092154502868652, 21.924266815185547, 7.663248538970947, 12.688577651977539, 13.832093238830566, 9.539292335510254, 11.9642972946167, 8.959197998046875, 14.469743728637695, 7.36088752746582, 17.68785858154297, 7.2256760597229, 6.239309310913086, 7.844430923461914, 5.810702800750732, 5.810702800750732, 5.8046064376831055, 6.112872123718262, 9.28635025024414, 6.172212600708008, 14.809759140014648, 14.398608207702637, 24.09988784790039, 6.248072147369385, 7.595279693603516, 29.750444412231445, 19.36135482788086, 40.566158294677734, 22.23995590209961, 8.28174114227295, 9.933110237121582, 27.8942928314209, 22.56315803527832, 12.982011795043945, 18.057870864868164, 19.67990493774414, 10.120784759521484, 21.083293914794922, 16.326141357421875, 26.52574348449707, 23.53464698791504, 12.010726928710938, 17.093645095825195, 16.521812438964844, 13.377983093261719], \"Total\": [42.0, 46.0, 35.0, 56.0, 32.0, 35.0, 46.0, 25.0, 24.0, 28.0, 29.0, 25.0, 22.0, 25.0, 32.0, 21.0, 41.0, 23.0, 204.0, 23.0, 18.0, 184.0, 35.0, 15.0, 15.0, 15.0, 15.0, 14.0, 182.0, 15.0, 204.38206481933594, 184.36305236816406, 156.81521606445312, 117.7912368774414, 115.14004516601562, 112.68153381347656, 182.28172302246094, 84.13814544677734, 91.62593841552734, 90.2969970703125, 98.04615783691406, 89.90647888183594, 87.10529327392578, 87.98162078857422, 146.21160888671875, 88.31220245361328, 67.9862289428711, 73.28147888183594, 77.74828338623047, 64.1081314086914, 102.7898178100586, 65.95013427734375, 146.4048614501953, 56.142330169677734, 58.1517219543457, 56.7356071472168, 98.63886260986328, 52.7979850769043, 64.40422058105469, 55.458404541015625, 133.85540771484375, 68.24278259277344, 116.1845703125, 80.04110717773438, 97.29389190673828, 108.90509033203125, 105.5736312866211, 35.74134826660156, 42.285980224609375, 24.474018096923828, 15.541399002075195, 12.953710556030273, 8.935612678527832, 11.565757751464844, 22.935880661010742, 8.025179862976074, 13.31580924987793, 14.528088569641113, 10.024099349975586, 12.572505950927734, 9.430148124694824, 15.256590843200684, 7.77635383605957, 18.706382751464844, 7.642552852630615, 6.601418495178223, 8.322041511535645, 6.174788951873779, 6.174788951873779, 6.175487995147705, 6.509544372558594, 9.8889799118042, 6.573571681976318, 15.817838668823242, 15.39122486114502, 25.778770446777344, 6.6947102546691895, 8.1393461227417, 32.36233901977539, 21.263042449951172, 46.10890197753906, 25.04121971130371, 8.959907531738281, 10.900054931640625, 35.68056869506836, 28.73462677001953, 15.11545181274414, 23.006654739379883, 25.79535675048828, 11.419878959655762, 29.31797218322754, 23.79659080505371, 56.055824279785156, 46.56694412231445, 15.40542221069336, 32.51268005371094, 41.087398529052734, 35.39427947998047], \"Category\": [\"Default\", \"Default\", \"Default\", \"Default\", \"Default\", \"Default\", \"Default\", \"Default\", \"Default\", \"Default\", \"Default\", \"Default\", \"Default\", \"Default\", \"Default\", \"Default\", \"Default\", \"Default\", \"Default\", \"Default\", \"Default\", \"Default\", \"Default\", \"Default\", \"Default\", \"Default\", \"Default\", \"Default\", \"Default\", \"Default\", \"Topic1\", \"Topic1\", \"Topic1\", \"Topic1\", \"Topic1\", \"Topic1\", \"Topic1\", \"Topic1\", \"Topic1\", \"Topic1\", \"Topic1\", \"Topic1\", \"Topic1\", \"Topic1\", \"Topic1\", \"Topic1\", \"Topic1\", \"Topic1\", \"Topic1\", \"Topic1\", \"Topic1\", \"Topic1\", \"Topic1\", \"Topic1\", \"Topic1\", \"Topic1\", \"Topic1\", \"Topic1\", \"Topic1\", \"Topic1\", \"Topic1\", \"Topic1\", \"Topic1\", \"Topic1\", \"Topic1\", \"Topic1\", \"Topic1\", \"Topic2\", \"Topic2\", \"Topic2\", \"Topic2\", \"Topic2\", \"Topic2\", \"Topic2\", \"Topic2\", \"Topic2\", \"Topic2\", \"Topic2\", \"Topic2\", \"Topic2\", \"Topic2\", \"Topic2\", \"Topic2\", \"Topic2\", \"Topic2\", \"Topic2\", \"Topic2\", \"Topic2\", \"Topic2\", \"Topic2\", \"Topic2\", \"Topic2\", \"Topic2\", \"Topic2\", \"Topic2\", \"Topic2\", \"Topic2\", \"Topic2\", \"Topic2\", \"Topic2\", \"Topic2\", \"Topic2\", \"Topic2\", \"Topic2\", \"Topic2\", \"Topic2\", \"Topic2\", \"Topic2\", \"Topic2\", \"Topic2\", \"Topic2\", \"Topic2\", \"Topic2\", \"Topic2\", \"Topic2\", \"Topic2\", \"Topic2\", \"Topic2\"], \"logprob\": [30.0, 29.0, 28.0, 27.0, 26.0, 25.0, 24.0, 23.0, 22.0, 21.0, 20.0, 19.0, 18.0, 17.0, 16.0, 15.0, 14.0, 13.0, 12.0, 11.0, 10.0, 9.0, 8.0, 7.0, 6.0, 5.0, 4.0, 3.0, 2.0, 1.0, -4.568600177764893, -4.672100067138672, -4.8343000411987305, -5.121399879455566, -5.144199848175049, -5.165900230407715, -4.685100078582764, -5.458600044250488, -5.373300075531006, -5.388000011444092, -5.305699825286865, -5.392399787902832, -5.424300193786621, -5.414299964904785, -4.906400203704834, -5.410799980163574, -5.672900199890137, -5.597899913787842, -5.53879976272583, -5.731900215148926, -5.259900093078613, -5.703800201416016, -4.906300067901611, -5.864799976348877, -5.829599857330322, -5.854300022125244, -5.301300048828125, -5.926300048828125, -5.72790002822876, -5.877600193023682, -5.003300189971924, -5.670400142669678, -5.169400215148926, -5.524400234222412, -5.34119987487793, -5.278299808502197, -5.305500030517578, -4.765500068664551, -4.599899768829346, -5.150000095367432, -5.6118998527526855, -5.799799919128418, -6.182499885559082, -5.925600051879883, -5.24429988861084, -6.295400142669678, -5.791200160980225, -5.704899787902832, -6.076499938964844, -5.849899768829346, -6.139200210571289, -5.659800052642822, -6.335700035095215, -5.459000110626221, -6.3541998863220215, -6.500999927520752, -6.27209997177124, -6.572199821472168, -6.572199821472168, -6.573200225830078, -6.521500110626221, -6.103300094604492, -6.5117998123168945, -5.636600017547607, -5.664700031280518, -5.149700164794922, -6.499599933624268, -6.304299831390381, -4.939000129699707, -5.368599891662598, -4.628900051116943, -5.230000019073486, -6.217800140380859, -6.035999774932861, -5.003399848937988, -5.21560001373291, -5.7683000564575195, -5.438300132751465, -5.35230016708374, -6.017300128936768, -5.283400058746338, -5.539100170135498, -5.053800106048584, -5.173399925231934, -5.846099853515625, -5.493199825286865, -5.527200222015381, -5.73829984664917], \"loglift\": [30.0, 29.0, 28.0, 27.0, 26.0, 25.0, 24.0, 23.0, 22.0, 21.0, 20.0, 19.0, 18.0, 17.0, 16.0, 15.0, 14.0, 13.0, 12.0, 11.0, 10.0, 9.0, 8.0, 7.0, 6.0, 5.0, 4.0, 3.0, 2.0, 1.0, 0.1899999976158142, 0.18960000574588776, 0.1890999972820282, 0.1882999986410141, 0.1881999969482422, 0.18799999356269836, 0.18790000677108765, 0.1875, 0.1875, 0.1873999983072281, 0.1873999983072281, 0.1873999983072281, 0.18709999322891235, 0.18709999322891235, 0.18700000643730164, 0.1868000030517578, 0.18629999458789825, 0.18629999458789825, 0.18619999289512634, 0.18610000610351562, 0.1860000044107437, 0.1859000027179718, 0.1859000027179718, 0.1858000010251999, 0.1858000010251999, 0.1858000010251999, 0.1858000010251999, 0.18569999933242798, 0.18539999425411224, 0.18529999256134033, 0.1784999966621399, 0.1851000040769577, 0.15399999916553497, 0.17159999907016754, 0.15960000455379486, 0.10980000346899033, 0.1136000007390976, 1.7367000579833984, 1.7342000007629395, 1.7309999465942383, 1.723099946975708, 1.7173999547958374, 1.7059999704360962, 1.704800009727478, 1.7015999555587769, 1.7005000114440918, 1.6984000205993652, 1.69760000705719, 1.697100043296814, 1.697100043296814, 1.6953999996185303, 1.6936999559402466, 1.6917999982833862, 1.6907000541687012, 1.690600037574768, 1.6901999711990356, 1.687600016593933, 1.6858999729156494, 1.6858999729156494, 1.6847000122070312, 1.6837999820709229, 1.6837999820709229, 1.6836999654769897, 1.680799961090088, 1.6799999475479126, 1.6792999505996704, 1.6776000261306763, 1.6775000095367432, 1.662500023841858, 1.652999997138977, 1.6186000108718872, 1.628000020980835, 1.6679999828338623, 1.6538000106811523, 1.500499963760376, 1.5048999786376953, 1.594499945640564, 1.5045000314712524, 1.476099967956543, 1.6259000301361084, 1.4169000387191772, 1.3698999881744385, 0.9983999729156494, 1.0642000436782837, 1.4976999759674072, 1.103700041770935, 0.8356000185012817, 0.7736999988555908]}, \"token.table\": {\"Topic\": [2, 2, 1, 2, 1, 2, 2, 2, 1, 2, 1, 2, 1, 2, 2, 1, 1, 2, 2, 2, 1, 1, 1, 2, 1, 2, 1, 1, 2, 1, 2, 1, 2, 1, 1, 2, 2, 1, 2, 2, 2, 1, 1, 2, 1, 2, 1, 1, 1, 1, 2, 1, 1, 2, 1, 2, 2, 1, 2, 1, 1, 1, 1, 1, 2, 2, 1, 1, 2, 1, 2, 1, 2, 1, 2, 1, 2, 2, 1, 2, 1, 2, 1, 1, 2, 1, 2, 1, 2, 1, 2, 1, 2, 2, 2, 1, 2, 1, 2, 2, 1, 2, 1, 1, 2, 1, 1, 2, 1, 2, 1, 2, 1, 2, 1, 1, 1, 2, 1, 1, 1, 2, 1, 2, 1, 2, 1, 2, 1, 1, 2], \"Freq\": [0.9613025784492493, 0.9715831279754639, 0.21732842922210693, 0.7823823094367981, 0.963983416557312, 0.03442797809839249, 0.9159243106842041, 0.921723484992981, 0.2242116779088974, 0.7847408652305603, 0.07953863590955734, 0.9544636607170105, 0.07509870082139969, 0.9762831330299377, 0.9543858766555786, 0.9981306195259094, 0.1301267147064209, 0.8891991972923279, 0.9792579412460327, 0.900164783000946, 0.9964647889137268, 1.000208854675293, 0.6215693950653076, 0.36729100346565247, 0.4613584578037262, 0.5228729248046875, 0.9870344996452332, 0.09270034730434418, 0.9270034432411194, 0.12285999208688736, 0.9828799366950989, 0.06554543972015381, 0.9176362156867981, 0.9932827353477478, 0.06497208774089813, 0.9096091985702515, 0.9968624114990234, 0.5351808071136475, 0.48166272044181824, 0.9716931581497192, 0.965164065361023, 0.999529242515564, 0.9984544515609741, 0.005486013367772102, 0.9987837076187134, 0.9975958466529846, 0.9848860502243042, 0.9973909258842468, 0.9937236905097961, 0.05345768854022026, 0.9622384309768677, 0.9931685328483582, 0.6084590554237366, 0.41375216841697693, 0.13231493532657623, 0.8600470423698425, 0.9088955521583557, 0.9661449193954468, 0.030834412202239037, 0.9917342662811279, 0.993951678276062, 0.9974648356437683, 0.9961589574813843, 0.29415977001190186, 0.6723652482032776, 0.8962299823760986, 0.9987912178039551, 0.09405991435050964, 0.8935692310333252, 0.9923161864280701, 0.009728590026497841, 0.1011226624250412, 0.910103976726532, 0.19473662972450256, 0.7789465188980103, 0.9282621145248413, 0.07577649503946304, 0.9806317687034607, 0.023648500442504883, 0.9932370185852051, 0.06883218139410019, 0.9636505246162415, 0.9980307817459106, 0.04359980672597885, 0.9591957926750183, 0.08756659924983978, 0.8756660223007202, 0.09174265712499619, 0.917426586151123, 0.49391257762908936, 0.5153870582580566, 1.0010402202606201, 0.9716931581497192, 1.0035734176635742, 0.9127458333969116, 0.9985527396202087, 0.00683940201997757, 0.9935232400894165, 0.010137991979718208, 1.0072057247161865, 0.27287018299102783, 0.7162842154502869, 1.0002025365829468, 0.2088073045015335, 0.800428032875061, 0.998313307762146, 0.9182307124137878, 0.08264076709747314, 0.11980246752500534, 0.8785514831542969, 0.11160829663276672, 0.8928663730621338, 0.07758321613073349, 0.9309986233711243, 0.9983581304550171, 0.99480140209198, 0.9861387014389038, 0.014941495843231678, 0.9964423775672913, 0.9903755784034729, 0.06321976333856583, 0.9482964277267456, 0.9967108964920044, 0.9510833621025085, 0.23260000348091125, 0.7753333449363708, 0.9744992852210999, 0.02498716115951538, 1.0007561445236206, 0.9972346425056458, 0.0068303742446005344], \"Term\": [\"addictive\", \"advisory\", \"allow\", \"allow\", \"also\", \"also\", \"announce\", \"announcement\", \"bubble_tea\", \"bubble_tea\", \"car\", \"car\", \"chain\", \"chain\", \"check\", \"chinese\", \"close\", \"close\", \"closure\", \"cocaine\", \"come\", \"country\", \"covid\", \"covid\", \"delivery\", \"delivery\", \"different\", \"drink\", \"drink\", \"ensure\", \"ensure\", \"essential\", \"essential\", \"even\", \"facility\", \"facility\", \"field\", \"food\", \"food\", \"football\", \"garden\", \"get\", \"go\", \"go\", \"good\", \"hair\", \"influence\", \"interest\", \"issue\", \"item\", \"item\", \"know\", \"last\", \"last\", \"late\", \"late\", \"list\", \"long\", \"long\", \"look\", \"make\", \"many\", \"may\", \"measure\", \"measure\", \"miss\", \"much\", \"nature\", \"nature\", \"need\", \"need\", \"nuclear\", \"nuclear\", \"open\", \"open\", \"order\", \"order\", \"outlet\", \"park\", \"park\", \"pause\", \"pause\", \"people\", \"period\", \"period\", \"pm\", \"pm\", \"prevent\", \"prevent\", \"queue\", \"queue\", \"really\", \"recreational\", \"reserve\", \"retail\", \"say\", \"say\", \"see\", \"see\", \"sell\", \"shop\", \"shop\", \"singaporean\", \"staff\", \"staff\", \"state\", \"still\", \"still\", \"store\", \"store\", \"submarine\", \"submarine\", \"sugar\", \"sugar\", \"thing\", \"think\", \"time\", \"time\", \"try\", \"use\", \"walk\", \"walk\", \"want\", \"water\", \"week\", \"week\", \"well\", \"well\", \"work\", \"would\", \"would\"]}, \"R\": 30, \"lambda.step\": 0.01, \"plot.opts\": {\"xlab\": \"PC1\", \"ylab\": \"PC2\"}, \"topic.order\": [2, 1]};\n",
       "\n",
       "function LDAvis_load_lib(url, callback){\n",
       "  var s = document.createElement('script');\n",
       "  s.src = url;\n",
       "  s.async = true;\n",
       "  s.onreadystatechange = s.onload = callback;\n",
       "  s.onerror = function(){console.warn(\"failed to load library \" + url);};\n",
       "  document.getElementsByTagName(\"head\")[0].appendChild(s);\n",
       "}\n",
       "\n",
       "if(typeof(LDAvis) !== \"undefined\"){\n",
       "   // already loaded: just create the visualization\n",
       "   !function(LDAvis){\n",
       "       new LDAvis(\"#\" + \"ldavis_el9192417458287446483634396664\", ldavis_el9192417458287446483634396664_data);\n",
       "   }(LDAvis);\n",
       "}else if(typeof define === \"function\" && define.amd){\n",
       "   // require.js is available: use it to load d3/LDAvis\n",
       "   require.config({paths: {d3: \"https://cdnjs.cloudflare.com/ajax/libs/d3/3.5.5/d3.min\"}});\n",
       "   require([\"d3\"], function(d3){\n",
       "      window.d3 = d3;\n",
       "      LDAvis_load_lib(\"https://cdn.rawgit.com/bmabey/pyLDAvis/files/ldavis.v1.0.0.js\", function(){\n",
       "        new LDAvis(\"#\" + \"ldavis_el9192417458287446483634396664\", ldavis_el9192417458287446483634396664_data);\n",
       "      });\n",
       "    });\n",
       "}else{\n",
       "    // require.js not available: dynamically load d3 & LDAvis\n",
       "    LDAvis_load_lib(\"https://cdnjs.cloudflare.com/ajax/libs/d3/3.5.5/d3.min.js\", function(){\n",
       "         LDAvis_load_lib(\"https://cdn.rawgit.com/bmabey/pyLDAvis/files/ldavis.v1.0.0.js\", function(){\n",
       "                 new LDAvis(\"#\" + \"ldavis_el9192417458287446483634396664\", ldavis_el9192417458287446483634396664_data);\n",
       "            })\n",
       "         });\n",
       "}\n",
       "</script>"
      ],
      "text/plain": [
       "PreparedData(topic_coordinates=              x    y  topics  cluster       Freq\n",
       "topic                                           \n",
       "1      0.148473  0.0       1        1  82.564484\n",
       "0     -0.148473  0.0       2        1  17.435513, topic_info=         Term       Freq      Total Category  logprob  loglift\n",
       "335      park  42.000000  42.000000  Default  30.0000  30.0000\n",
       "141     close  46.000000  46.000000  Default  29.0000  29.0000\n",
       "142   closure  35.000000  35.000000  Default  28.0000  28.0000\n",
       "497      food  56.000000  56.000000  Default  27.0000  27.0000\n",
       "935     drink  32.000000  32.000000  Default  26.0000  26.0000\n",
       "..        ...        ...        ...      ...      ...      ...\n",
       "231     queue  23.534647  46.566944   Topic2  -5.1734   1.0642\n",
       "147      open  12.010727  15.405422   Topic2  -5.8461   1.4977\n",
       "180  delivery  17.093645  32.512680   Topic2  -5.4932   1.1037\n",
       "144      last  16.521812  41.087399   Topic2  -5.5272   0.8356\n",
       "337     covid  13.377983  35.394279   Topic2  -5.7383   0.7737\n",
       "\n",
       "[118 rows x 6 columns], token_table=      Topic      Freq       Term\n",
       "term                            \n",
       "2879      2  0.961303  addictive\n",
       "4576      2  0.971583   advisory\n",
       "319       1  0.217328      allow\n",
       "319       2  0.782382      allow\n",
       "174       1  0.963983       also\n",
       "...     ...       ...        ...\n",
       "200       1  0.974499       well\n",
       "200       2  0.024987       well\n",
       "643       1  1.000756       work\n",
       "135       1  0.997235      would\n",
       "135       2  0.006830      would\n",
       "\n",
       "[131 rows x 3 columns], R=30, lambda_step=0.01, plot_opts={'xlab': 'PC1', 'ylab': 'PC2'}, topic_order=[2, 1])"
      ]
     },
     "execution_count": 13,
     "metadata": {},
     "output_type": "execute_result"
    }
   ],
   "source": [
    "# Visualize the topics\n",
    "pyLDAvis.enable_notebook()\n",
    "vis = pyLDAvis.gensim.prepare(lda_model, corpus, id2word)\n",
    "vis"
   ]
  },
  {
   "cell_type": "code",
   "execution_count": null,
   "metadata": {},
   "outputs": [],
   "source": []
  }
 ],
 "metadata": {
  "kernelspec": {
   "display_name": "Python 3",
   "language": "python",
   "name": "python3"
  },
  "language_info": {
   "codemirror_mode": {
    "name": "ipython",
    "version": 3
   },
   "file_extension": ".py",
   "mimetype": "text/x-python",
   "name": "python",
   "nbconvert_exporter": "python",
   "pygments_lexer": "ipython3",
   "version": "3.7.6"
  }
 },
 "nbformat": 4,
 "nbformat_minor": 4
}
