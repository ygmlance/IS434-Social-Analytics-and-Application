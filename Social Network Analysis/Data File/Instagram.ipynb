{
 "cells": [
  {
   "cell_type": "markdown",
   "metadata": {},
   "source": [
    "Lab 5 (Social Network Analysis) - Twitter - Part 1\n",
    "\n",
    "This script takes as input JSON formatted Twitter tweets,\n",
    "extracts a social network of Twitter users where the link/edge\n",
    "between two nodes represents:\n",
    "\n",
    "    from_user ---(retweets)---> to_user\n",
    "\n",
    "The output file is a GML file, which can be opened in Gephi.\n",
    "It is a \"directed\" and \"weighted\" social network.\n",
    "\n",
    "The node with a high in-degree centrality is freqeutnly re-tweeted\n",
    "and is considered a social influencer since his/her tweet gets \"cited\" often."
   ]
  },
  {
   "cell_type": "code",
   "execution_count": 12,
   "metadata": {},
   "outputs": [],
   "source": [
    "import json\n",
    "import pandas as pd\n",
    "import csv \n",
    "from collections import defaultdict\n",
    "\n",
    "input_file_caption = 'filtered_compulsory_policy1_caption.csv'\n",
    "#CORRECTED\n",
    "# output_file_caption = 'filtered_compulsory_policy1_caption.gml'\n",
    "\n",
    "input_file_comment = 'filtered_compulsory_policy1_comments.csv'\n",
    "#CORRECTED\n",
    "# output_file_comment = 'filtered_compulsory_policy1_comments.gml'\n",
    "\n",
    "output_file_name = 'instagram_network.gml'"
   ]
  },
  {
   "cell_type": "code",
   "execution_count": 13,
   "metadata": {
    "tags": []
   },
   "outputs": [],
   "source": [
    "# From the input file (JSON objects),\n",
    "# retrieve only \"text\" and user \"screen name\"\n",
    "shortcode_list = []\n",
    "account_id = []\n",
    "account_username = []\n",
    "caption_list = []\n",
    "\n",
    "shortcode_dict = {}\n",
    "\n",
    "with open(input_file_caption, 'r') as captionfile: \n",
    "    # creating a csv reader object \n",
    "    caption = csv.reader(captionfile) \n",
    "    fields = next(caption)\n",
    "    \n",
    "    for lines in caption: \n",
    "        shortcode_list.append(lines[1])\n",
    "        account_id.append(lines[2])\n",
    "        account_username.append(lines[3])\n",
    "        caption_list.append(lines[4])\n",
    "        shortcode_dict[lines[1]] = lines[3]\n",
    "\n",
    "insta_commenter = {}\n",
    "        \n",
    "with open(input_file_comment, 'r') as commentfile: \n",
    "    # creating a csv reader object \n",
    "    comment = csv.reader(commentfile) \n",
    "    fields = next(comment)\n",
    "    \n",
    "    for lines in comment: \n",
    "#         print(lines)\n",
    "        # CORRECTED\n",
    "        # insta_commenter[lines[1]] = [lines[4], lines[6], lines[7]]\n",
    "        insta_commenter[lines[1]] = [lines[3], lines[4], lines[5]]\n",
    "    \n",
    "\n",
    "# for commenter in insta_commenter:\n",
    "#     print(insta_commenter[commenter][0])\n",
    "\n",
    "# print(insta_commenter)"
   ]
  },
  {
   "cell_type": "code",
   "execution_count": 14,
   "metadata": {
    "scrolled": true
   },
   "outputs": [
    {
     "output_type": "execute_result",
     "data": {
      "text/plain": "2"
     },
     "metadata": {},
     "execution_count": 14
    }
   ],
   "source": [
    "# Start writing a GML output file\n",
    "output_file = open(output_file_name, \"w\")\n",
    "output_file.write(\"graph\\n\")\n",
    "output_file.write(\"[\\n\")"
   ]
  },
  {
   "cell_type": "code",
   "execution_count": 15,
   "metadata": {
    "tags": []
   },
   "outputs": [
    {
     "output_type": "stream",
     "name": "stdout",
     "text": "0\n1\n2\n3\n4\n5\n6\n7\n8\n9\n10\n11\n12\n13\n14\n15\n16\n17\n"
    }
   ],
   "source": [
    "# Loop through each line and extract from_user and to_user\n",
    "# e.g. from_user \"retweets\" from to_user\n",
    "counter = 0\n",
    "account_username = list(set(account_username))\n",
    "max_length = len(account_username)\n",
    "# max_length = 7\n",
    "pairwise_counter_dictionary = defaultdict(int)\n",
    "user_id = 0\n",
    "users = {}\n",
    "commenters = defaultdict(list)\n",
    "\n",
    "\n",
    "while counter < max_length:\n",
    "    author = account_username[counter]\n",
    "    # print(author)\n",
    "    # get all the commenters from each author's post and store it in a dict with author as key and commenters as value\n",
    "    # CORRECTED - for 'comment' to for 'shortcode'\n",
    "    for shortcode, comment_data in insta_commenter.items():\n",
    "        if shortcode in commenters.keys():\n",
    "            # shortcode_dict[shortcode]] refers to the shortcode's poster (i.e. the post's account owner)\n",
    "            author = shortcode_dict[shortcode]\n",
    "            commenters[author].append(comment_data[1])\n",
    "        else:\n",
    "            commenters[author] = comment_data[1]\n",
    "# print(commenters)\n",
    "\n",
    "    for author, commenter_list in commenters.items():\n",
    "        # print(commenter_list)\n",
    "        from_user = author\n",
    "        # increment counter\n",
    "        for commenter in commenter_list:\n",
    "            # print(commenter)\n",
    "            to_user = commenter\n",
    "            from_user_id = \"\"\n",
    "            to_user_id = \"\"\n",
    "            if (from_user in users) == False:\n",
    "                users[from_user] = user_id\n",
    "                user_id = user_id + 1\n",
    "            from_user_id = users[from_user]\n",
    "            if (to_user in users) == False:\n",
    "                users[to_user] = user_id\n",
    "                user_id = user_id + 1\n",
    "            to_user_id = users[to_user]\n",
    "            # print(to_user)\n",
    "            \n",
    "            # increment counter\n",
    "            pairwise_counter_dictionary[from_user_id, to_user_id] += 1\n",
    "\n",
    "    # while loop counter\n",
    "    counter = counter + 1\n",
    "\n",
    "# print(commenters)\n",
    "\n",
    "for key in users.keys():\n",
    "    output_file.write(\"  node\\n\")\n",
    "    output_file.write(\"  [\\n\")\n",
    "    output_file.write(\"    id \" + str(users[key]) + \"\\n\")\n",
    "    output_file.write(\"    label \\\"\" + key + \"\\\"\" + \"\\n\")\n",
    "    output_file.write(\"  ]\\n\")\n",
    "\n",
    "# print all edges\n",
    "for keys in pairwise_counter_dictionary.keys():\n",
    "    output_file.write(\"  edge\\n\")\n",
    "    output_file.write(\"  [\\n\")\n",
    "    output_file.write(\"    source \" + str(keys[0]) + \"\\n\")\n",
    "    output_file.write(\"    target \" + str(keys[1]) + \"\\n\")\n",
    "    output_file.write(\"    value \" + str(pairwise_counter_dictionary[keys[0], keys[1]]) + \"\\n\")\n",
    "    output_file.write(\"  ]\\n\")\n",
    "\n",
    "output_file.write(\"]\\n\")\n",
    "output_file.close()"
   ]
  },
  {
   "cell_type": "code",
   "execution_count": null,
   "metadata": {},
   "outputs": [],
   "source": []
  }
 ],
 "metadata": {
  "kernelspec": {
   "display_name": "Python 3",
   "language": "python",
   "name": "python3"
  },
  "language_info": {
   "codemirror_mode": {
    "name": "ipython",
    "version": 3
   },
   "file_extension": ".py",
   "mimetype": "text/x-python",
   "name": "python",
   "nbconvert_exporter": "python",
   "pygments_lexer": "ipython3",
   "version": "3.7.6-final"
  }
 },
 "nbformat": 4,
 "nbformat_minor": 2
}