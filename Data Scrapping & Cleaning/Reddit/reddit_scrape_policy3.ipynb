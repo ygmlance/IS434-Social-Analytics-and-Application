{
 "cells": [
  {
   "cell_type": "code",
   "execution_count": 4,
   "metadata": {},
   "outputs": [],
   "source": [
    "import praw\n",
    "import pandas as pd\n",
    "import datetime as dt\n",
    "from praw.models import MoreComments\n",
    "from itertools import chain\n",
    "import json"
   ]
  },
  {
   "cell_type": "code",
   "execution_count": 5,
   "metadata": {},
   "outputs": [],
   "source": [
    "reddit = praw.Reddit(client_id='wwZo28kog152aw', \\\n",
    "                     client_secret='Vk0aNPpkxwkqEFE-8FiQg7l9jUI', \\\n",
    "                     user_agent='IS434_Regina_Liu_Yixuan', \\\n",
    "                     username='is434scraper', \\\n",
    "                     password='summer20')"
   ]
  },
  {
   "cell_type": "code",
   "execution_count": 6,
   "metadata": {},
   "outputs": [],
   "source": [
    "subreddit = reddit.subreddit('singapore')\n",
    "\n",
    "# Query Terms\n",
    "mask_subreddit = subreddit.search(\"mask\", limit=None)"
   ]
  },
  {
   "cell_type": "code",
   "execution_count": 7,
   "metadata": {},
   "outputs": [],
   "source": [
    "posts_dict = {}\n",
    "\n",
    "# To put the datetime in a readable format\n",
    "def get_date(created):\n",
    "    return dt.datetime.utcfromtimestamp(int(created)).strftime('%Y-%m-%d %H:%M:%S')"
   ]
  },
  {
   "cell_type": "code",
   "execution_count": 8,
   "metadata": {},
   "outputs": [
    {
     "name": "stdout",
     "output_type": "stream",
     "text": [
      "17\n"
     ]
    }
   ],
   "source": [
    "no_of_submissions = 0\n",
    "\n",
    "# Append each unique submission from all search queries to the topics_dict\n",
    "for submission in chain(mask_subreddit):\n",
    "    if submission.id not in posts_dict.keys():\n",
    "#         Filter the posts based on dates \n",
    "        if submission.created >= 1586793600 and submission.created < 1587312000:\n",
    "            no_of_submissions += 1\n",
    "            new_post_dict = {}\n",
    "            new_post_dict[\"created\"] = submission.created\n",
    "            new_post_dict[\"date\"] = get_date(submission.created)\n",
    "#           Retrieve Redditor's username from the Redditor class' instance variable\n",
    "            redditor_dict = submission.author.__dict__\n",
    "            new_post_dict[\"author\"] = redditor_dict['name']\n",
    "            new_post_dict[\"title\"] = submission.title\n",
    "            new_post_dict[\"body\"] = submission.selftext\n",
    "            new_post_dict[\"comms_num\"] = submission.num_comments\n",
    "        #   Dig through CommentForest\n",
    "            submission.comments.replace_more(limit=None)\n",
    "        #   Concatenate all comments into a string, all_comments\n",
    "            all_comments = {}\n",
    "            for comment in submission.comments.list():\n",
    "                if comment.author is not None:\n",
    "                    commentor_dict = comment.author.__dict__\n",
    "                    commentor = commentor_dict['name']\n",
    "                    all_comments[commentor] = comment.body\n",
    "            new_post_dict[\"comments\"] = all_comments\n",
    "            new_post_dict[\"score\"] = submission.score\n",
    "            new_post_dict[\"url\"] = submission.url\n",
    "            posts_dict[submission.id] = new_post_dict\n",
    "                \n",
    "print(no_of_submissions)"
   ]
  },
  {
   "cell_type": "code",
   "execution_count": 2,
   "metadata": {},
   "outputs": [
    {
     "ename": "NameError",
     "evalue": "name 'posts_dict' is not defined",
     "output_type": "error",
     "traceback": [
      "\u001b[0;31m---------------------------------------------------------------------------\u001b[0m",
      "\u001b[0;31mNameError\u001b[0m                                 Traceback (most recent call last)",
      "\u001b[0;32m<ipython-input-2-9f64677f9a18>\u001b[0m in \u001b[0;36m<module>\u001b[0;34m\u001b[0m\n\u001b[0;32m----> 1\u001b[0;31m \u001b[0mprint\u001b[0m\u001b[0;34m(\u001b[0m\u001b[0mposts_dict\u001b[0m\u001b[0;34m)\u001b[0m\u001b[0;34m\u001b[0m\u001b[0;34m\u001b[0m\u001b[0m\n\u001b[0m",
      "\u001b[0;31mNameError\u001b[0m: name 'posts_dict' is not defined"
     ]
    }
   ],
   "source": [
    "print(posts_dict)"
   ]
  },
  {
   "cell_type": "code",
   "execution_count": 7,
   "metadata": {},
   "outputs": [],
   "source": [
    "# Save data to file\n",
    "with open('three_mask.txt', 'w') as f:\n",
    "    json.dump(posts_dict, f)"
   ]
  },
  {
   "cell_type": "code",
   "execution_count": 9,
   "metadata": {},
   "outputs": [
    {
     "name": "stdout",
     "output_type": "stream",
     "text": [
      "666\n"
     ]
    }
   ],
   "source": [
    "total_comments = 0\n",
    "for i in posts_dict.values():\n",
    "    total_comments += i['comms_num']\n",
    "    \n",
    "print(total_comments)"
   ]
  },
  {
   "cell_type": "code",
   "execution_count": null,
   "metadata": {},
   "outputs": [],
   "source": []
  }
 ],
 "metadata": {
  "kernelspec": {
   "display_name": "Python 3",
   "language": "python",
   "name": "python3"
  },
  "language_info": {
   "codemirror_mode": {
    "name": "ipython",
    "version": 3
   },
   "file_extension": ".py",
   "mimetype": "text/x-python",
   "name": "python",
   "nbconvert_exporter": "python",
   "pygments_lexer": "ipython3",
   "version": "3.7.6"
  }
 },
 "nbformat": 4,
 "nbformat_minor": 4
}
